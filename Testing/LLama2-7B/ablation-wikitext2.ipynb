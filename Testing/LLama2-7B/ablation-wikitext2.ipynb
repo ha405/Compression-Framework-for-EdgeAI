{
 "cells": [
  {
   "cell_type": "code",
   "execution_count": null,
   "metadata": {
    "_cell_guid": "b1076dfc-b9ad-4769-8c92-a6c4dae69d19",
    "_uuid": "8f2839f25d086af736a60e9eeb907d3b93b6e0e5",
    "execution": {
     "iopub.execute_input": "2025-06-25T18:48:06.140301Z",
     "iopub.status.busy": "2025-06-25T18:48:06.139644Z",
     "iopub.status.idle": "2025-06-25T18:48:07.423404Z",
     "shell.execute_reply": "2025-06-25T18:48:07.422478Z",
     "shell.execute_reply.started": "2025-06-25T18:48:06.140277Z"
    },
    "trusted": true
   },
   "outputs": [],
   "source": [
    "!rm -rf /kaggle/working/Compression-Framework-for-EdgeAI\n",
    "!git clone https://github.com/ha405/Compression-Framework-for-EdgeAI"
   ]
  },
  {
   "cell_type": "markdown",
   "metadata": {},
   "source": [
    "Run the below command only once per session. If you reset session run again. "
   ]
  },
  {
   "cell_type": "code",
   "execution_count": null,
   "metadata": {
    "trusted": true
   },
   "outputs": [],
   "source": [
    "!pip install -r /kaggle/working/Compression-Framework-for-EdgeAI/requirements.txt\n",
    "!pip install logbar\n",
    "!pip install tokenicer\n",
    "!pip install device_smi\n",
    "!pip install random_word\n",
    "!pip install datasets"
   ]
  },
  {
   "cell_type": "code",
   "execution_count": null,
   "metadata": {
    "execution": {
     "iopub.execute_input": "2025-06-25T18:50:12.765101Z",
     "iopub.status.busy": "2025-06-25T18:50:12.764587Z",
     "iopub.status.idle": "2025-06-25T18:50:35.175379Z",
     "shell.execute_reply": "2025-06-25T18:50:35.174804Z",
     "shell.execute_reply.started": "2025-06-25T18:50:12.765062Z"
    },
    "trusted": true
   },
   "outputs": [],
   "source": [
    "import sys\n",
    "import os\n",
    "library_path = \"/kaggle/working/Compression-Framework-for-EdgeAI/KLAWQ\" \n",
    "if library_path not in sys.path:\n",
    "     sys.path.insert(0, library_path)\n",
    "     print(f\"Added '{library_path}' to sys.path\")\n",
    "from quant import GPTQModel, QuantizeConfig "
   ]
  },
  {
   "cell_type": "markdown",
   "metadata": {},
   "source": [
    "## Imports"
   ]
  },
  {
   "cell_type": "code",
   "execution_count": null,
   "metadata": {
    "execution": {
     "iopub.execute_input": "2025-06-25T18:50:40.315217Z",
     "iopub.status.busy": "2025-06-25T18:50:40.314475Z",
     "iopub.status.idle": "2025-06-25T18:50:40.318961Z",
     "shell.execute_reply": "2025-06-25T18:50:40.318171Z",
     "shell.execute_reply.started": "2025-06-25T18:50:40.315194Z"
    },
    "trusted": true
   },
   "outputs": [],
   "source": [
    "import os\n",
    "import gc\n",
    "import torch\n",
    "import shutil\n",
    "import math\n",
    "import pandas as pd\n",
    "from transformers import AutoTokenizer\n",
    "import pandas as pd\n",
    "import matplotlib.pyplot as plt\n",
    "import numpy as np\n",
    "from datasets import load_dataset, DatasetDict\n",
    "from tqdm import tqdm"
   ]
  },
  {
   "cell_type": "markdown",
   "metadata": {},
   "source": [
    "## WikiText-2"
   ]
  },
  {
   "cell_type": "code",
   "execution_count": null,
   "metadata": {
    "execution": {
     "iopub.execute_input": "2025-06-25T18:50:42.635637Z",
     "iopub.status.busy": "2025-06-25T18:50:42.635369Z",
     "iopub.status.idle": "2025-06-25T18:50:45.639734Z",
     "shell.execute_reply": "2025-06-25T18:50:45.639171Z",
     "shell.execute_reply.started": "2025-06-25T18:50:42.635618Z"
    },
    "trusted": true
   },
   "outputs": [],
   "source": [
    "dataset = load_dataset(\"wikitext\", \"wikitext-2-raw-v1\")\n",
    "\n",
    "train_dataset = dataset[\"train\"]\n",
    "val_dataset = dataset[\"validation\"]\n",
    "test_dataset = dataset[\"test\"]\n",
    "\n",
    "calibration_dataset = train_dataset.select(range(1000))\n",
    "\n",
    "dataset_splits = DatasetDict({\n",
    "    \"train\": train_dataset,\n",
    "    \"validation\": val_dataset,\n",
    "    \"test\": test_dataset,\n",
    "    \"calibration\": calibration_dataset,\n",
    "})\n",
    "\n",
    "print({k: len(v) for k, v in dataset_splits.items()})\n"
   ]
  },
  {
   "cell_type": "markdown",
   "metadata": {},
   "source": [
    "To Clear GPU Cache"
   ]
  },
  {
   "cell_type": "code",
   "execution_count": null,
   "metadata": {
    "execution": {
     "iopub.execute_input": "2025-06-25T18:50:50.471325Z",
     "iopub.status.busy": "2025-06-25T18:50:50.471003Z",
     "iopub.status.idle": "2025-06-25T18:50:50.475462Z",
     "shell.execute_reply": "2025-06-25T18:50:50.474805Z",
     "shell.execute_reply.started": "2025-06-25T18:50:50.471304Z"
    },
    "trusted": true
   },
   "outputs": [],
   "source": [
    "def clear_gpu_cache():\n",
    "    gc.collect()  \n",
    "    torch.cuda.empty_cache()  \n",
    "    torch.cuda.ipc_collect()  \n",
    "    print(\"✅ GPU VRAM and cache cleared.\")"
   ]
  },
  {
   "cell_type": "markdown",
   "metadata": {},
   "source": [
    "## Quantization Functions"
   ]
  },
  {
   "cell_type": "code",
   "execution_count": null,
   "metadata": {
    "execution": {
     "iopub.execute_input": "2025-06-25T18:50:53.077159Z",
     "iopub.status.busy": "2025-06-25T18:50:53.076831Z",
     "iopub.status.idle": "2025-06-25T18:50:53.088433Z",
     "shell.execute_reply": "2025-06-25T18:50:53.087634Z",
     "shell.execute_reply.started": "2025-06-25T18:50:53.077100Z"
    },
    "trusted": true
   },
   "outputs": [],
   "source": [
    "def clear_quant_path(path=None):\n",
    "    if path and os.path.exists(path):\n",
    "        shutil.rmtree(path)\n",
    "    torch.cuda.empty_cache()\n",
    "    gc.collect()\n",
    "\n",
    "def quantize_and_eval(\n",
    "    model_id: str,\n",
    "    calib_tokenized: dict,\n",
    "    eval_texts: list[str],\n",
    "    beta: float,\n",
    "    tau: float,\n",
    "    quant_path: str,\n",
    "    tokenizer: AutoTokenizer,\n",
    "    max_len: int,\n",
    "    batch_size: int = 8\n",
    "):\n",
    "    print(f\"  -> [Quantize] beta={beta}, tau={tau}\")\n",
    "    clear_quant_path(quant_path)\n",
    "\n",
    "    # 1) Quantize\n",
    "    quant_cfg = QuantizeConfig(bits=4, group_size=-1, beta=beta, tau=tau)\n",
    "    model = GPTQModel.load(\n",
    "        model_id,\n",
    "        quant_cfg,\n",
    "        trust_remote_code=True,\n",
    "        torch_dtype=\"auto\",\n",
    "        device_map=\"auto\"\n",
    "    )\n",
    "\n",
    "    # Format calibration data\n",
    "    calibration_data = []\n",
    "    input_ids_tensor     = calib_tokenized['input_ids']\n",
    "    attention_mask_tensor= calib_tokenized['attention_mask']\n",
    "    for i in range(input_ids_tensor.size(0)):\n",
    "        calibration_data.append({\n",
    "            \"input_ids\":     input_ids_tensor[i].tolist(),\n",
    "            \"attention_mask\":attention_mask_tensor[i].tolist()\n",
    "        })\n",
    "\n",
    "    model.quantize(calibration_data, batch_size=batch_size)\n",
    "    os.makedirs(os.path.dirname(quant_path), exist_ok=True)\n",
    "    model.save(quant_path)\n",
    "    print(f\"     Quantization complete and saved to {quant_path}\")\n",
    "\n",
    "    # Free GPU RAM\n",
    "    del model\n",
    "    clear_quant_path()\n",
    "\n",
    "    # 2) Load the quantized model\n",
    "    model = GPTQModel.from_pretrained(\n",
    "        quant_path,\n",
    "        trust_remote_code=True,\n",
    "        device_map=\"auto\",\n",
    "        quantize_config=quant_cfg\n",
    "    )\n",
    "    model.eval()\n",
    "\n",
    "    # 3) Tokenize evaluation texts\n",
    "    encodings = tokenizer(\n",
    "        eval_texts,\n",
    "        return_tensors=\"pt\",\n",
    "        padding=\"longest\",\n",
    "        truncation=True,\n",
    "        max_length=max_len\n",
    "    )\n",
    "    input_ids     = encodings.input_ids\n",
    "    attention_mask= encodings.attention_mask\n",
    "\n",
    "    # 4) Compute loss & perplexity with proper pad‐masking\n",
    "    total_nll    = 0.0\n",
    "    total_tokens = 0\n",
    "\n",
    "    with torch.no_grad():\n",
    "        for i in tqdm(\n",
    "            range(0, input_ids.size(0), batch_size),\n",
    "            desc=\"     Evaluating PPL\",\n",
    "            leave=False\n",
    "        ):\n",
    "            b_ids  = input_ids[i:i+batch_size].to(model.device)\n",
    "            b_mask = attention_mask[i:i+batch_size].to(model.device)\n",
    "\n",
    "            # --- mask out pads in the labels ---\n",
    "            labels = b_ids.clone()\n",
    "            labels[b_mask == 0] = -100  # ignore padding\n",
    "\n",
    "            out = model(\n",
    "                input_ids=b_ids,\n",
    "                attention_mask=b_mask,\n",
    "                labels=labels\n",
    "            )\n",
    "\n",
    "            # out.loss is avg NLL over non-ignored tokens\n",
    "            num_real = (labels != -100).sum().item()\n",
    "            if num_real > 0:\n",
    "                batch_nll = out.loss.item() * num_real\n",
    "                total_nll    += batch_nll\n",
    "                total_tokens += num_real\n",
    "\n",
    "    avg_loss  = total_nll / total_tokens\n",
    "    perplexity = math.exp(avg_loss)\n",
    "    print(f\"     Eval complete: loss={avg_loss:.4f}, ppl={perplexity:.2f}\")\n",
    "\n",
    "    # Cleanup\n",
    "    del model\n",
    "    clear_quant_path(quant_path)\n",
    "\n",
    "    return avg_loss, perplexity\n"
   ]
  },
  {
   "cell_type": "code",
   "execution_count": null,
   "metadata": {
    "execution": {
     "iopub.execute_input": "2025-06-25T18:50:57.757633Z",
     "iopub.status.busy": "2025-06-25T18:50:57.757084Z",
     "iopub.status.idle": "2025-06-25T18:51:05.737962Z",
     "shell.execute_reply": "2025-06-25T18:51:05.737225Z",
     "shell.execute_reply.started": "2025-06-25T18:50:57.757611Z"
    },
    "trusted": true
   },
   "outputs": [],
   "source": [
    "from huggingface_hub import login\n",
    "from getpass import getpass\n",
    "\n",
    "HF_TOKEN = getpass(\"Enter your Hugging Face token:\")\n",
    "login(token=HF_TOKEN)\n",
    "\n",
    "print(\"Hugging Face login successful!\")"
   ]
  },
  {
   "cell_type": "code",
   "execution_count": null,
   "metadata": {
    "execution": {
     "iopub.execute_input": "2025-06-25T18:51:19.715014Z",
     "iopub.status.busy": "2025-06-25T18:51:19.714447Z"
    },
    "trusted": true
   },
   "outputs": [],
   "source": [
    "calib_texts = dataset_splits[\"calibration\"][\"text\"]\n",
    "eval_texts  = [t for t in dataset_splits[\"validation\"][\"text\"] if t.strip()][:3000]\n",
    "\n",
    "# --- init tokenizer & pre-tokenize calibration set ---\n",
    "model_id = \"meta-llama/Llama-2-7b-hf\"\n",
    "tokenizer = AutoTokenizer.from_pretrained(model_id, use_fast=True)\n",
    "tokenizer.pad_token = tokenizer.eos_token\n",
    "max_len = tokenizer.model_max_length\n",
    "max_len = 4096 \n",
    "calib_tokenized = tokenizer(\n",
    "    calib_texts,\n",
    "    truncation=True,\n",
    "    padding=\"longest\",\n",
    "    max_length=max_len,\n",
    "    return_tensors=\"pt\"\n",
    ")\n",
    "\n",
    "base_quant_path = \"/kaggle/working/llama2-7b-quant\"\n",
    "beta_values     = [0.2, 0.4, 0.6, 0.8, 1.0]\n",
    "tau_values      = [0.5, 1.0, 1.5, 2.0]\n",
    "results = []\n",
    "total_iters = len(beta_values) + len(tau_values)\n",
    "iter_count = 0\n",
    "\n",
    "\n",
    "for beta in beta_values:\n",
    "    iter_count += 1\n",
    "    print(f\"[Iter {iter_count}/{total_iters}] β={beta}, τ=0.5\")\n",
    "    qp = f\"{base_quant_path}-b{beta}-t0.5\"\n",
    "    loss, ppl = quantize_and_eval(\n",
    "        model_id=model_id,\n",
    "        calib_tokenized=calib_tokenized,\n",
    "        eval_texts=eval_texts,\n",
    "        beta=beta,\n",
    "        tau=0.5,\n",
    "        quant_path=qp,\n",
    "        tokenizer=tokenizer,      # ← pass it here\n",
    "        max_len=max_len,          # ← and here\n",
    "        batch_size=8\n",
    "    )\n",
    "    results.append({\"beta\": beta, \"tau\": 0.5, \"loss\": loss, \"ppl\": ppl})\n",
    "\n",
    "# … select best_beta …\n",
    "\n",
    "for tau in tau_values:\n",
    "    iter_count += 1\n",
    "    print(f\"[Iter {iter_count}/{total_iters}] β={best_beta}, τ={tau}\")\n",
    "    qp = f\"{base_quant_path}-b{best_beta}-t{tau}\"\n",
    "    loss, ppl = quantize_and_eval(\n",
    "        model_id=model_id,\n",
    "        calib_tokenized=calib_tokenized,\n",
    "        eval_texts=eval_texts,\n",
    "        beta=best_beta,\n",
    "        tau=tau,\n",
    "        quant_path=qp,\n",
    "        tokenizer=tokenizer,      # ← and here too\n",
    "        max_len=max_len,\n",
    "        batch_size=8\n",
    "    )\n",
    "    results.append({\"beta\": best_beta, \"tau\": tau, \"loss\": loss, \"ppl\": ppl})\n",
    "\n",
    "df = pd.DataFrame(results)\n",
    "print(df.to_markdown(index=False))\n"
   ]
  },
  {
   "cell_type": "markdown",
   "metadata": {},
   "source": [
    "## Plotting"
   ]
  },
  {
   "cell_type": "code",
   "execution_count": null,
   "metadata": {
    "trusted": true
   },
   "outputs": [],
   "source": [
    "df2 = pd.DataFrame(results2)\n",
    "\n",
    "# Constants\n",
    "const_tau = 0.5\n",
    "df_beta = df[df['tau'] == const_tau].reset_index(drop=True)\n",
    "\n",
    "best_beta = df_beta.loc[df_beta['ppl'].idxmin(), 'beta']\n",
    "df_tau = df[df['beta'] == best_beta].reset_index(drop=True)\n",
    "\n",
    "def plot_zoomed_bar(x, y, xlabel, ylabel, title, cmap):\n",
    "    colors = cmap(np.linspace(0, 1, len(x)))\n",
    "    fig, ax = plt.subplots(figsize=(8, 4))\n",
    "    bars = ax.bar(x, y, color=colors, edgecolor='black', linewidth=0.8)\n",
    "\n",
    "    ax.set_title(title, fontsize=14)\n",
    "    ax.set_xlabel(xlabel, fontsize=12)\n",
    "    ax.set_ylabel(ylabel, fontsize=12)\n",
    "    ax.grid(axis='y', linestyle='--', alpha=0.6)\n",
    "    ax.spines['top'].set_visible(False)\n",
    "    ax.spines['right'].set_visible(False)\n",
    "\n",
    "    y_min, y_max = y.min(), y.max()\n",
    "    margin = (y_max - y_min) * 0.15\n",
    "    ax.set_ylim(y_min - margin, y_max + margin)\n",
    "    \n",
    "    plt.tight_layout()\n",
    "\n",
    "plot_zoomed_bar(\n",
    "    x=df_beta['beta'].astype(str),\n",
    "    y=df_beta['ppl'],\n",
    "    xlabel='β (Beta values)',\n",
    "    ylabel='Perplexity',\n",
    "    title='Perplexity vs Beta @ τ = 0.5',\n",
    "    cmap=plt.cm.Set2\n",
    ")\n",
    "\n",
    "plot_zoomed_bar(\n",
    "    x=df_beta['beta'].astype(str),\n",
    "    y=df_beta['loss'],\n",
    "    xlabel='β (Beta values)',\n",
    "    ylabel='Avg NLL Loss',\n",
    "    title='Loss vs Beta @ τ = 0.5',\n",
    "    cmap=plt.cm.Pastel1\n",
    ")\n",
    "\n",
    "plot_zoomed_bar(\n",
    "    x=df_tau['tau'].astype(str),\n",
    "    y=df_tau['ppl'],\n",
    "    xlabel='τ (Tau values)',\n",
    "    ylabel='Perplexity',\n",
    "    title=f'Perplexity vs Tau @ β = {best_beta}',\n",
    "    cmap=plt.cm.Pastel2\n",
    ")\n",
    "\n",
    "plot_zoomed_bar(\n",
    "    x=df_tau['tau'].astype(str),\n",
    "    y=df_tau['loss'],\n",
    "    xlabel='τ (Tau values)',\n",
    "    ylabel='Avg NLL Loss',\n",
    "    title=f'Loss vs Tau @ β = {best_beta}',\n",
    "    cmap=plt.cm.Dark2\n",
    ")\n",
    "\n",
    "plt.show()"
   ]
  }
 ],
 "metadata": {
  "kaggle": {
   "accelerator": "nvidiaTeslaT4",
   "dataSources": [],
   "dockerImageVersionId": 31040,
   "isGpuEnabled": true,
   "isInternetEnabled": true,
   "language": "python",
   "sourceType": "notebook"
  },
  "kernelspec": {
   "display_name": "Python 3",
   "language": "python",
   "name": "python3"
  },
  "language_info": {
   "codemirror_mode": {
    "name": "ipython",
    "version": 3
   },
   "file_extension": ".py",
   "mimetype": "text/x-python",
   "name": "python",
   "nbconvert_exporter": "python",
   "pygments_lexer": "ipython3",
   "version": "3.11.11"
  }
 },
 "nbformat": 4,
 "nbformat_minor": 4
}
